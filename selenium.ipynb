{
 "cells": [
  {
   "cell_type": "code",
   "execution_count": 14,
   "metadata": {},
   "outputs": [],
   "source": [
    "from selenium import webdriver\n",
    "from selenium.webdriver.common.by import By\n",
    "from selenium.webdriver.common.keys import Keys\n",
    "from workalendar.america import Brazil\n",
    "import time\n",
    "from datetime import date, timedelta"
   ]
  },
  {
   "cell_type": "code",
   "execution_count": 20,
   "metadata": {},
   "outputs": [],
   "source": [
    "def add_business_days(start_date, num_days, calendar):\n",
    "    current_date = start_date\n",
    "    while num_days > 0:\n",
    "        current_date += timedelta(days=1)\n",
    "        # Verifica se é um dia útil (não é fim de semana nem feriado)\n",
    "        if calendar.is_working_day(current_date):\n",
    "            num_days -= 1\n",
    "    return current_date"
   ]
  },
  {
   "cell_type": "code",
   "execution_count": 23,
   "metadata": {},
   "outputs": [],
   "source": [
    "future_date = add_business_days(date.today(), 8, Brazil())\n",
    "future_date = future_date.strftime(\"%d/%m/%Y\")\n",
    "\n",
    "browser = webdriver.Edge()\n",
    "browser.get('https://pypi.org/project/selenium/')\n",
    "\n",
    "time.sleep(5)\n",
    "\n",
    "browser.find_element(By.XPATH, '//*[@id=\"search\"]').send_keys(future_date)\n",
    "browser.find_element(By.XPATH, '/html/body/header/div/div/div[1]/form/button').click()"
   ]
  }
 ],
 "metadata": {
  "kernelspec": {
   "display_name": "base",
   "language": "python",
   "name": "python3"
  },
  "language_info": {
   "codemirror_mode": {
    "name": "ipython",
    "version": 3
   },
   "file_extension": ".py",
   "mimetype": "text/x-python",
   "name": "python",
   "nbconvert_exporter": "python",
   "pygments_lexer": "ipython3",
   "version": "3.9.13"
  }
 },
 "nbformat": 4,
 "nbformat_minor": 2
}
